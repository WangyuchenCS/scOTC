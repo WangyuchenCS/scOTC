{
 "cells": [
  {
   "cell_type": "markdown",
   "metadata": {},
   "source": [
    "# Load Dataset"
   ]
  },
  {
   "cell_type": "code",
   "execution_count": 1,
   "metadata": {},
   "outputs": [
    {
     "name": "stdout",
     "output_type": "stream",
     "text": [
      "AnnData object with n_obs × n_vars = 16893 × 6998\n",
      "    obs: 'condition', 'n_counts', 'n_genes', 'mt_frac', 'cell_type'\n",
      "    var: 'gene_symbol', 'n_cells'\n",
      "    uns: 'cell_type_colors', 'condition_colors', 'neighbors'\n",
      "    obsm: 'X_pca', 'X_tsne', 'X_umap'\n",
      "    obsp: 'distances', 'connectivities'\n"
     ]
    }
   ],
   "source": [
    "import warnings\n",
    "import numpy as np\n",
    "import pandas as pd\n",
    "import random\n",
    "import torch\n",
    "import gdown\n",
    "import scanpy as sc\n",
    "import evaluate\n",
    "import models\n",
    "import gc\n",
    "warnings.filterwarnings('ignore')\n",
    "\n",
    "seed = 0\n",
    "def set_seed(seed):\n",
    "    \"\"\"set random seed.\"\"\"\n",
    "    random.seed(seed)\n",
    "    np.random.seed(seed)\n",
    "    torch.manual_seed(seed)\n",
    "    torch.backends.cudnn.deterministic = True\n",
    "    torch.backends.cudnn.benchmark = False\n",
    "    # if n_gpu > 0:\n",
    "    #     torch.cuda.manual_seed_all(seed)\n",
    "set_seed(seed)\n",
    "\n",
    "\n",
    "dataname = 'PBMC'\n",
    "adata = sc.read(\"/home/grads/ywang2542/Perturbation/scPRAM/scOTC/data/PBMC.h5ad\")\n",
    "key_dic = {'condition_key': 'condition',\n",
    "        'cell_type_key': 'cell_type',\n",
    "        'ctrl_key': 'control',\n",
    "        'stim_key': 'stimulated',\n",
    "        'pred_key': 'predict',\n",
    "        }\n",
    "\n",
    "# adata = sc.AnnData(adata.X, obs=adata.obs.copy(), var=adata.var.copy())\n",
    "adata.obs_names_make_unique()\n",
    "print(adata)\n",
    "# print('\\n', adata.obs['condition'].value_counts())\n",
    "# print('\\n', adata.obs['cell_type'].value_counts())"
   ]
  },
  {
   "cell_type": "markdown",
   "metadata": {},
   "source": [
    "# Model Training, Evaluation, and Visualization of results"
   ]
  },
  {
   "cell_type": "code",
   "execution_count": null,
   "metadata": {},
   "outputs": [
    {
     "name": "stdout",
     "output_type": "stream",
     "text": [
      "7 ['NK', 'Dendritic', 'CD4T', 'B', 'FCGR3A+Mono', 'CD14+Mono', 'CD8T']\n",
      "Categories (7, object): ['CD4T', 'CD14+Mono', 'B', 'CD8T', 'NK', 'FCGR3A+Mono', 'Dendritic']\n"
     ]
    },
    {
     "data": {
      "application/vnd.jupyter.widget-view+json": {
       "model_id": "e4c2698e0e43431abd20d795bf52066e",
       "version_major": 2,
       "version_minor": 0
      },
      "text/plain": [
       "  0%|          | 0/400 [00:00<?, ?it/s]"
      ]
     },
     "metadata": {},
     "output_type": "display_data"
    }
   ],
   "source": [
    "\n",
    "noise_rate=0.1\n",
    "num_heads=0\n",
    "latent_dim=200\n",
    "hidden_dim=1000\n",
    "cycle_weight = 0.01\n",
    "epochs = 400  # 400\n",
    "lr = 5e-4\n",
    "\n",
    "\n",
    "celltypelist = adata.obs[key_dic['cell_type_key']].unique()\n",
    "print(len(celltypelist),celltypelist)\n",
    "# celltypelist = [\"CD14+Mono\"] # ['CD4T']\n",
    "model = models.scOTC(input_dim=adata.n_vars, latent_dim=latent_dim, hidden_dim=hidden_dim, noise_rate=noise_rate, num_heads=num_heads, cycle_weight=cycle_weight, device='cuda:0')\n",
    "model = model.to(model.device)\n",
    "cell_to_pred = 'CD14+Mono'\n",
    "\n",
    "train = adata[~((adata.obs[key_dic['cell_type_key']] == cell_to_pred) &\n",
    "            (adata.obs[key_dic['condition_key']] == key_dic['stim_key']))]\n",
    "x_, x_hat_ = model.train_scOTC(train, epochs=epochs,lr=lr,weight_decay=1e-5,batch_size=256)\n",
    "\n",
    "# Predict\n",
    "adata_to_pred = adata[((adata.obs[key_dic['cell_type_key']] == cell_to_pred) &\n",
    "                    (adata.obs[key_dic['condition_key']] == key_dic['ctrl_key']))]\n",
    "pred,ctrl,stim,test_z = model.predict_new(train_adata=train,\n",
    "                    cell_to_pred=cell_to_pred,\n",
    "                    key_dic=key_dic,\n",
    "                    ratio=0.005,)\n",
    "# Evaluate\n",
    "ground_truth = adata[(adata.obs[key_dic['cell_type_key']] == cell_to_pred)]\n",
    "eval_adata = ground_truth.concatenate(pred)\n",
    "evaluate.evaluate(data_name=dataname,\n",
    "                eval_adata=eval_adata, \n",
    "                key_dic=key_dic, save_path=None, return_fig=False)\n",
    "     \n"
   ]
  },
  {
   "cell_type": "code",
   "execution_count": null,
   "metadata": {},
   "outputs": [],
   "source": []
  },
  {
   "cell_type": "code",
   "execution_count": null,
   "metadata": {},
   "outputs": [],
   "source": []
  },
  {
   "cell_type": "code",
   "execution_count": null,
   "metadata": {},
   "outputs": [],
   "source": []
  }
 ],
 "metadata": {
  "kernelspec": {
   "display_name": "scPerturbation",
   "language": "python",
   "name": "python3"
  },
  "language_info": {
   "codemirror_mode": {
    "name": "ipython",
    "version": 3
   },
   "file_extension": ".py",
   "mimetype": "text/x-python",
   "name": "python",
   "nbconvert_exporter": "python",
   "pygments_lexer": "ipython3",
   "version": "3.8.18"
  }
 },
 "nbformat": 4,
 "nbformat_minor": 2
}
